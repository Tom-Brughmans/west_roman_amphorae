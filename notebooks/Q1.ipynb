{
 "cells": [
  {
   "cell_type": "markdown",
   "metadata": {},
   "source": [
    "# Consumption chronologies"
   ]
  },
  {
   "cell_type": "markdown",
   "metadata": {},
   "source": [
    "## Contents \n",
    "1. [<span style=\"color:black\">Import packages</span>](#1) <a id=\"one\"></a>  \n",
    "2. [<span style=\"color:black\">Read in data</span>](#2)  <a id=\"two\"></a>  \n",
    "3. [<span style=\"color:black\">Amphora frequency per year in type date ranges</span>](#3) <a id=\"three\"></a>  \n",
    "4. [<span style=\"color:black\">Site count per year in types date ranges</span>](#4)  <a id=\"four\"></a>   \n",
    "5. [<span style=\"color:black\">Amphora type count per year in type date ranges</span>](#5)  <a id=\"five\"></a>  \n",
    "6. [<span style=\"color:black\">Plot line graphs</span>](#6) <a id=\"six\"></a> "
   ]
  },
  {
   "cell_type": "markdown",
   "metadata": {},
   "source": [
    "### [<span style=\"color:black\">1. Import packages</span>](#one) <a id=\"1\"></a> "
   ]
  },
  {
   "cell_type": "code",
   "execution_count": 2,
   "metadata": {},
   "outputs": [],
   "source": [
    "import sys\n",
    "import pandas as pd\n",
    "import seaborn as sns\n",
    "import matplotlib.pyplot as plt\n",
    "from matplotlib.ticker import FormatStrFormatter\n",
    "sys.path.append(\"../src\")\n",
    "from utils import year_site_count_series, year_type_count_series, dens_per_year, year_freq_series, plot_graph"
   ]
  },
  {
   "cell_type": "markdown",
   "metadata": {},
   "source": [
    "### [<span style=\"color:black\">2. Read in data</span>](#two)  <a id=\"2\"></a>"
   ]
  },
  {
   "cell_type": "code",
   "execution_count": 3,
   "metadata": {},
   "outputs": [],
   "source": [
    "data = pd.read_excel(\"../data/Data_amphorae_20_and_Tarraconensis_7-05-2024.xlsx\")\n",
    "\n",
    "freq = {}\n",
    "site_count = {}\n",
    "type_count = {}\n",
    "list_of_dicts = []"
   ]
  },
  {
   "cell_type": "markdown",
   "metadata": {},
   "source": [
    "### [<span style=\"color:black\">3. Amphora frequency per year in type date ranges</span>](#three) <a id=\"3\"></a>"
   ]
  },
  {
   "cell_type": "code",
   "execution_count": null,
   "metadata": {},
   "outputs": [],
   "source": [
    "df = data.groupby([\"amphora_type\", \"Lower_date_type\", \"Upper_date_type\"])[\"frequency_density\"].sum()\n",
    "df = df.reset_index()\n",
    "df = df.rename(columns = {\"frequency_density\":\"type_density\"})\n",
    "\n",
    "df_freq = dens_per_year(data = df,\n",
    "                        type_dens = \"type_density\",\n",
    "                        lower_date = \"Lower_date_type\",\n",
    "                        upper_date = \"Upper_date_type\",\n",
    "                        output_column=\"density_per_year\")\n",
    "\n",
    "freq[0] = year_freq_series(data = df_freq,     \n",
    "                        lower_date = \"Lower_date_type\",\n",
    "                        upper_date = \"Upper_date_type\",\n",
    "                        dens_per_year = \"density_per_year\")   \n",
    "\n",
    "list_of_dicts.append(freq)"
   ]
  },
  {
   "cell_type": "markdown",
   "metadata": {},
   "source": [
    "### [<span style=\"color:black\">4. Site count per year in type date ranges</span>](#four) <a id=\"4\"></a>  "
   ]
  },
  {
   "cell_type": "code",
   "execution_count": null,
   "metadata": {},
   "outputs": [],
   "source": [
    "df = data.groupby([\"amphora_type\", \"Lower_date_type\", \"Upper_date_type\"])[\"site_h1\"].apply(lambda x: \",\".join(x))\n",
    "df = df.apply(lambda x: x.split(','))\n",
    "df = df.reset_index()\n",
    "df = df.rename(columns = {\"site_h1\":\"List_of_sites\"})\n",
    "\n",
    "site_count[0] = year_site_count_series(data = df, \n",
    "                                      lower_date = \"Lower_date_type\",  \n",
    "                                      upper_date = \"Upper_date_type\",\n",
    "                                      site_list = \"List_of_sites\") \n",
    "        \n",
    "list_of_dicts.append(site_count)              "
   ]
  },
  {
   "cell_type": "markdown",
   "metadata": {},
   "source": [
    "### [<span style=\"color:black\">5. Amphora type number count per year in type date ranges</span>](#five) <a id=\"5\"></a>"
   ]
  },
  {
   "cell_type": "code",
   "execution_count": 6,
   "metadata": {},
   "outputs": [],
   "source": [
    "df = data[[\"amphora_type\", \"Lower_date_type\", \"Upper_date_type\"]].drop_duplicates()\n",
    "\n",
    "type_count[0] = year_type_count_series(data = df,  \n",
    "                                    lower_date = \"Lower_date_type\",  \n",
    "                                    upper_date = \"Upper_date_type\")\n",
    "        \n",
    "list_of_dicts.append(type_count)      "
   ]
  },
  {
   "cell_type": "markdown",
   "metadata": {},
   "source": [
    "### [<span style=\"color:black\">6. Plot line graphs</span>](#six) <a id=\"6\"></a>"
   ]
  },
  {
   "cell_type": "code",
   "execution_count": null,
   "metadata": {},
   "outputs": [],
   "source": [
    "sns.set_style(\"white\", {\"font.family\":\"serif\", \"font.serif\":\"Times New Roman\"}) \n",
    "\n",
    "fig, axs = plt.subplots(1, 3, figsize=(20, 5))\n",
    "\n",
    "axs[0].set_xlim([-250, 700])\n",
    "axs[1].set_xlim([-250, 700])\n",
    "axs[2].set_xlim([-250, 700])\n",
    "\n",
    "for ax, d in zip(axs.ravel(), list_of_dicts):\n",
    "    plot_graph(dict_w_series = d,\n",
    "               palette=[\"black\"],\n",
    "               ax = ax,\n",
    "               linewidth=2)\n",
    "\n",
    "    ax.set_ylim(0, None)\n",
    "    ax.yaxis.set_major_formatter(FormatStrFormatter(\"%.0f\"))  \n",
    "    ax.set_xlabel(None)\n",
    "    ax.set_xticklabels([int(i) if i != 0 else 1 for i in ax.get_xticks()])\n",
    "    ax.get_legend().remove()\n",
    "\n",
    "axs[0].set_ylabel(\"Density frequency\")\n",
    "axs[1].set_ylabel(\"Site count\")\n",
    "axs[2].set_ylabel(\"Type count\")\n",
    "fig.supxlabel(\"Year\")\n",
    "\n",
    "for ax, label in zip(axs, [\"A\", \"B\", \"C\"]):\n",
    "    ax.text(0.08, 0.96, label, transform=ax.transAxes,\n",
    "            fontsize=25, va='top', ha='right')\n",
    "\n",
    "plt.tight_layout()\n",
    "plt.savefig(\"../figs/Q1.png\", bbox_inches=\"tight\", format = \"png\", dpi = 400)"
   ]
  }
 ],
 "metadata": {
  "kernelspec": {
   "display_name": "env",
   "language": "python",
   "name": "python3"
  },
  "language_info": {
   "codemirror_mode": {
    "name": "ipython",
    "version": 3
   },
   "file_extension": ".py",
   "mimetype": "text/x-python",
   "name": "python",
   "nbconvert_exporter": "python",
   "pygments_lexer": "ipython3",
   "version": "3.9.5"
  },
  "orig_nbformat": 4
 },
 "nbformat": 4,
 "nbformat_minor": 2
}
